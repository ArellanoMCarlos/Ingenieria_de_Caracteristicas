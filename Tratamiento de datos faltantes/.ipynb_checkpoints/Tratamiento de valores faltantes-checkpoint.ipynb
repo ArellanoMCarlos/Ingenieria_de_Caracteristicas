{
 "cells": [
  {
   "cell_type": "markdown",
   "metadata": {},
   "source": [
    "# Tratamiento de valores faltantes"
   ]
  },
  {
   "cell_type": "markdown",
   "metadata": {},
   "source": [
    "## Eliminación de datos observados\n",
    "Cuando sea deseable utilizar modelos que sean intolerantes a los datos faltantes, los valores faltantes deben extraerse de los datos. El enfoque más simple para tratar con valores perdidos es eliminar predictores completos y/o muestras que contienen valores perdidos. Sin embargo, se deben considerar cuidadosamente varios aspectos de los datos antes de adoptar este enfoque. Por ejemplo, los valores perdidos se podrían eliminar borrando todos los predictores que contienen al menos un valor perdido. De manera similar, los valores perdidos se podrían eliminar borrando todas las muestras con valores perdidos. Ninguno de estos enfoques será apropiado para todos los datos.\n",
    "\n",
    "Una consideración importante es el valor intrínseco de las muestras en comparación con los predictores. Cuando sea difícil obtener muestras o cuando los datos contengan una pequeña cantidad de éstas, no es conveniente eliminarlas de los datos. En general, las muestras son más críticas que los predictores y se debe dar mayor prioridad a mantener tantas como sea posible."
   ]
  },
  {
   "cell_type": "markdown",
   "metadata": {},
   "source": [
    "## Codificación de datos faltantes"
   ]
  },
  {
   "cell_type": "markdown",
   "metadata": {},
   "source": [
    "## Métodos de estimación"
   ]
  }
 ],
 "metadata": {
  "kernelspec": {
   "display_name": "Python 3",
   "language": "python",
   "name": "python3"
  },
  "language_info": {
   "codemirror_mode": {
    "name": "ipython",
    "version": 3
   },
   "file_extension": ".py",
   "mimetype": "text/x-python",
   "name": "python",
   "nbconvert_exporter": "python",
   "pygments_lexer": "ipython3",
   "version": "3.7.3"
  }
 },
 "nbformat": 4,
 "nbformat_minor": 2
}
