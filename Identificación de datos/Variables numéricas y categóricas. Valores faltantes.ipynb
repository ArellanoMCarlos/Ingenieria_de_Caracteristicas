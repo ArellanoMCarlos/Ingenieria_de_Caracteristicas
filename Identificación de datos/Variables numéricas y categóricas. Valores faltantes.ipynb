{
 "cells": [
  {
   "cell_type": "markdown",
   "metadata": {},
   "source": [
    "# Variables numéricas y variables categóricas"
   ]
  },
  {
   "cell_type": "markdown",
   "metadata": {},
   "source": [
    "Variable categórica (cualitativa): Contienen un número finito de categorías o grupos distintos.\n",
    "\n",
    "Variable numérica (cuantitativa): Los valores son números que suelen representar un control o una medición."
   ]
  },
  {
   "cell_type": "markdown",
   "metadata": {},
   "source": [
    "#### Tipos de características\n",
    "* Categórica: El dominio es un conjunto de valores discretos.\n",
    "\n",
    "* Ordinal: El dominio es el conjunto de valores ordenados.\n",
    "\n",
    "* Numérica: El dominio es el conjunto de valores numéricos. La característica numérica también es llamada contínua. La característica numérica puede ser escalada: $u=2v$."
   ]
  },
  {
   "cell_type": "markdown",
   "metadata": {},
   "source": [
    "#### Ejemplos"
   ]
  },
  {
   "cell_type": "markdown",
   "metadata": {},
   "source": [
    "---\n",
    "# Valores faltantes"
   ]
  }
 ],
 "metadata": {
  "kernelspec": {
   "display_name": "Python 3",
   "language": "python",
   "name": "python3"
  },
  "language_info": {
   "codemirror_mode": {
    "name": "ipython",
    "version": 3
   },
   "file_extension": ".py",
   "mimetype": "text/x-python",
   "name": "python",
   "nbconvert_exporter": "python",
   "pygments_lexer": "ipython3",
   "version": "3.7.3"
  }
 },
 "nbformat": 4,
 "nbformat_minor": 2
}
