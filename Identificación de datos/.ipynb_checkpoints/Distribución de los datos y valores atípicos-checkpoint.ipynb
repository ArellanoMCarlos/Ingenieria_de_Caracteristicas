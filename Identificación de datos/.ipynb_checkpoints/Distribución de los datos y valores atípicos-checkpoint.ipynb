{
 "cells": [
  {
   "cell_type": "markdown",
   "metadata": {},
   "source": [
    "# Distribución de los datos"
   ]
  },
  {
   "cell_type": "markdown",
   "metadata": {},
   "source": [
    "## Varianza y valor esperado\n",
    "\n",
    "... definición de media y varianza\n",
    "\n",
    "... definición de covarianza"
   ]
  },
  {
   "cell_type": "markdown",
   "metadata": {},
   "source": [
    "Las cantidades estadísticas como la varianza y el valor esperado se definen en una distribución de datos. En la práctica, no tenemos la distribución verdadera, sino solo un grupo de puntos de datos observados, $\\{z_1, ..., z_n\\}$. Esto se llama distribución empírica\n",
    "\n",
    "... definición"
   ]
  },
  {
   "cell_type": "markdown",
   "metadata": {},
   "source": [
    "Ejemplos"
   ]
  }
 ],
 "metadata": {
  "kernelspec": {
   "display_name": "Python 3",
   "language": "python",
   "name": "python3"
  },
  "language_info": {
   "codemirror_mode": {
    "name": "ipython",
    "version": 3
   },
   "file_extension": ".py",
   "mimetype": "text/x-python",
   "name": "python",
   "nbconvert_exporter": "python",
   "pygments_lexer": "ipython3",
   "version": "3.7.3"
  }
 },
 "nbformat": 4,
 "nbformat_minor": 2
}
