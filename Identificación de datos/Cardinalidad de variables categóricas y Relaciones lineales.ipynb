{
 "cells": [
  {
   "cell_type": "markdown",
   "metadata": {},
   "source": [
    "# Cardinalidad de variables categóricas\n",
    "<img style=\"center\" src=\"https://upload.wikimedia.org/wikipedia/commons/thumb/2/2b/PolygonsSet.svg/280px-PolygonsSet.svg.png\" width=\"300px\" height=\"200px\" />\n",
    "cardinalidad de un conjunto es la medida del \"número de elementos en el conjunto\". Por ejemplo, el conjunto A = {2, 4, 6} contiene 3 elementos, y por tanto A tiene cardinalidad 3. La cardinalidad de un conjunto $A$ usualmente se denota $|A|$ o como $\\# A$."
   ]
  },
  {
   "cell_type": "markdown",
   "metadata": {},
   "source": [
    "## Características de color\n",
    "\n",
    "### Histograma de color\n",
    "\n",
    "### Vector de coherencia de color\n",
    "\n",
    "### Correlograma de color"
   ]
  },
  {
   "cell_type": "markdown",
   "metadata": {},
   "source": [
    "## Características de textura\n",
    "\n",
    "### Matriz de co-ocurrencia de escala de grises\n"
   ]
  },
  {
   "cell_type": "markdown",
   "metadata": {},
   "source": [
    "## Características de formas\n",
    "\n",
    "### Contexto de forma\n"
   ]
  }
 ],
 "metadata": {
  "kernelspec": {
   "display_name": "Python 3",
   "language": "python",
   "name": "python3"
  },
  "language_info": {
   "codemirror_mode": {
    "name": "ipython",
    "version": 3
   },
   "file_extension": ".py",
   "mimetype": "text/x-python",
   "name": "python",
   "nbconvert_exporter": "python",
   "pygments_lexer": "ipython3",
   "version": "3.7.3"
  }
 },
 "nbformat": 4,
 "nbformat_minor": 2
}
