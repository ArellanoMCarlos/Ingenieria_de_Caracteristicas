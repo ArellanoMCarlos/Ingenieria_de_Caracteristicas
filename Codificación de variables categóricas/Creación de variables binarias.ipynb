{
 "cells": [
  {
   "cell_type": "markdown",
   "metadata": {},
   "source": [
    "# Codificación de variables categóricas\n",
    "\n",
    "Lo valores de una variable categórica generalmente no son numéricas. Por ejemplo, el color de los ojos puede ser **negro**, **azul**, **marrón**, etc. Por lo tanto, se necesita un método de codificación para convertir estas categorías no numéricas en números. Es tentador simplemente asignar un número entero, digamos de 1 a $k$, a cada una de las $k$ categorías posibles, pero los valores resultantes se podrían ordenar entre sí, lo que no debería ser permisible para las categorías. Entonces, veamos algunas alternativas."
   ]
  },
  {
   "cell_type": "markdown",
   "metadata": {},
   "source": [
    "## Creación de variables binarias\n",
    "### One-hot\n",
    "Cada bit representa una categoría posible. Si la variable no puede pertenecer a varias categorías a la vez, solo un bit del grupo puede estar \"activado\". Esto se denomina codificación *one-hot* y se implementa en `scikit-learn` como `sklearn.preprocessing.OneHotEncoder`. Cada uno de los bits es una característica. Por tanto, una variable categórica con $k$ categorías posibles se codifica como un vector de características de longitud $k$.\n",
    "### Codificación Ficticia\n",
    "El problema con la codificación *one-hot* es que permite $k$ grados de libertad, mientras que la propia variable solo necesita $k – 1$. La Codificación Ficticia elimina el grado adicional de libertad al usar solo $k – 1$ características en la representación. Una característica se coloca debajo del bus y se representa mediante el vector de todos los ceros. Esto se conoce como categoría de referencia. La codificación ficticia y la codificación *one-hot* se implementan en `Pandas` como `pandas.get_dummies`."
   ]
  }
 ],
 "metadata": {
  "kernelspec": {
   "display_name": "Python 3",
   "language": "python",
   "name": "python3"
  },
  "language_info": {
   "codemirror_mode": {
    "name": "ipython",
    "version": 3
   },
   "file_extension": ".py",
   "mimetype": "text/x-python",
   "name": "python",
   "nbconvert_exporter": "python",
   "pygments_lexer": "ipython3",
   "version": "3.7.3"
  }
 },
 "nbformat": 4,
 "nbformat_minor": 2
}
