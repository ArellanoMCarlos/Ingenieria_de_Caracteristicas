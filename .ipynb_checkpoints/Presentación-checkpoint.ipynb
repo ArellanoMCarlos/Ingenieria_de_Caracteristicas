{
 "cells": [
  {
   "cell_type": "markdown",
   "metadata": {},
   "source": [
    "# Ingeniería de Características\n",
    "\n",
    "\n",
    "---"
   ]
  },
  {
   "cell_type": "markdown",
   "metadata": {},
   "source": [
    "### Descripción de la asignatura\n",
    "\n",
    "En la actualidad, cada día se generan y digitalizan millones de datos sobre fenómenos naturales, redes sociales, información financiera, etc. Los datos representan un activo potencialmente valioso para la sociedad, empresas y gobiernos. Sin embargo, antes de poder aprovechar los datos mediante el uso de técnicas de áreas como aprendizaje automático y minería de datos, es importante poder seleccionar las características relevantes para un problema o pregunta con el objetivo de reducir la dimensionalidad del conjunto de datos.\n",
    "\n",
    "Por lo anterior, en este curso se analizará la importancia de la ingeniería de características, así como los diversos algoritmos utilizados para la selección de características, la construcción de características compuestas y la reducción de dimensionalidad de conjunto de datos numéricos y alfanuméricos.\n",
    "\n",
    "Este curso no requiere algún conocimiento previo en particular para cursar la materia.\n",
    "\n",
    "### Propósito general\n",
    "Limpiar conjuntos de datos y sustraer sus características para crear nuevas variables que puedan ser usadas como entradas por un algoritmo de aprendizaje máquina.\n",
    "___"
   ]
  },
  {
   "cell_type": "markdown",
   "metadata": {},
   "source": [
    "## Temas\n",
    "1. **Identificación de datos**\n",
    "    1. Variables numéricas y variables categóricas\n",
    "    2.  Valores faltantes\n",
    "    3. Cardinalidad en variable categóricas\n",
    "    4. Relaciones lineales\n",
    "    5. Distribuciones de los datos\n",
    "    6. Valores atípicos\n",
    "2. **Tratamiento de datos faltantes**\n",
    "    1. Eliminación de observaciones\n",
    "    2. Sustitución por media y mediana\n",
    "    3. Sustitución por moda y frecuencia\n",
    "    4. Sustitución aleatoria\n",
    "    5. Valores extremos\n",
    "3. **Codificación de variables categóricas**\n",
    "    1. Creación de variables binarias\n",
    "    2. Variables categóricas ordinales\n",
    "    3. Conteos o frecuencias de categorías\n",
    "    4. Codificación en base la media\n",
    "    5. Featuring hashing\n",
    "4. **Transformación de variables numéricas**\n",
    "    1. Transformación logaritmo y reciproco\n",
    "    2. Transformación cuadrática y cubica\n",
    "    3. Transformación Box-Cox\n",
    "    4. Transformación Yeo-Johnson\n",
    "5. **Discretización de variables**\n",
    "    1. Intervalos de ancho constante\n",
    "    2. Intervalos de frecuencia constante\n",
    "    3. K-Means\n",
    "    4. Arboles de decisión\n",
    "6. **Escalamiento de variables**\n",
    "    1. Estandarización\n",
    "    2. Normalización basada en la media\n",
    "    3. Escalamiento de valores máximo y mínimo\n",
    "    4. Escalamiento de máximo absoluto\n",
    "    5. Escalamiento por cuantiles\n",
    "7. **Extracción de características en series de tiempo**\n",
    "    1. Intervalos\n",
    "    2. Shapelets\n",
    "    3. Diccionario de patrones\n",
    "\n",
    "---\n",
    "\n",
    "### Evaluación\n",
    "\n",
    "Actividad | Ponderación\n",
    ":------- | --:\n",
    "Exámenes | 30%\n",
    "Prácticas de laboratorio | 35 %\n",
    "Tareas | 15 %\n",
    "Proyecto de limpieza de conjunto de datos | 20 %"
   ]
  },
  {
   "cell_type": "markdown",
   "metadata": {},
   "source": [
    "### Bibliografía\n",
    "Título | Autor | Editorial-Año | ISBN\n",
    ":------|:------|:--------------|:----\n",
    "Feature Engineering for Machine Learning and Data Analytics | Guozhu Dong, Huan Liu | CRC Press, 2018 | 1351721267, 9781351721264\n",
    "Feature Engineering and Selection: A Practical Approach for Predictive Models Chapman & Hall/CRC Data Science Series | Max Kuhn, Kjell Johnson | CRC Press, 2019 | 1351609467, 9781351609463\n",
    "Python Feature Engineering Cookbook: Over 70 recipes for creating, engineering, and transforming features to build machine learning models | Soledad Galli | Packt Publishing Ltd, 2020 | 1789807824, 9781789807820\n",
    "Feature Engineering for Machine Learning: Principles and Techniques for Data Scientists | Alice Zheng, Amanda Casari | O'Reilly Media, Inc., 2018 | 1491953195, 9781491953198\n",
    "Machine Learning Refined: Foundations, Algorithms, and Applications | Jeremy Watt, Reza Borhani, Aggelos Katsaggelos | Cambridge University Press, 2020 | 1108480721, 9781108480727\n",
    "Texture Feature Extraction Techniques for Image Recognition | Jyotismita Chaki, Nilanjan Dey | Springer Nature, 2019 | 9811508534, 9789811508530"
   ]
  }
 ],
 "metadata": {
  "kernelspec": {
   "display_name": "Python 3",
   "language": "python",
   "name": "python3"
  },
  "language_info": {
   "codemirror_mode": {
    "name": "ipython",
    "version": 3
   },
   "file_extension": ".py",
   "mimetype": "text/x-python",
   "name": "python",
   "nbconvert_exporter": "python",
   "pygments_lexer": "ipython3",
   "version": "3.7.3"
  }
 },
 "nbformat": 4,
 "nbformat_minor": 2
}
