{
 "cells": [
  {
   "cell_type": "markdown",
   "metadata": {},
   "source": [
    "# ¿Qué es Ingeniería de Características?\n",
    "\n",
    "<img style=\"center\" src=\"https://static.wixstatic.com/media/51173c_d611122dfb5b4e37b77fa6b523e24790~mv2.png/v1/fit/w_852,h_720,al_c,q_80/file.png\" width=\"300px\" height=\"200px\" />\n",
    "\n",
    "La ingeniería de características es el proceso de utilizar el conocimiento del dominio para extraer características de datos sin procesar mediante técnicas de minería de datos[$^{[1]}$](https://en.wikipedia.org/wiki/Feature_engineering)."
   ]
  },
  {
   "cell_type": "markdown",
   "metadata": {},
   "source": [
    "### Motivación\n",
    "* Es un paso crucial en la canalización del aprendizaje automático, porque las características adecuadas pueden aliviar la dificultad del modelado y, por lo tanto, permitir que la canalización produzca resultados de mayor calidad.\n",
    "* Los profesionales están de acuerdo en que la gran mayoría del tiempo en la construcción de una canalización de aprendizaje automático se dedica a la ingeniería de características y la limpieza de datos."
   ]
  },
  {
   "cell_type": "markdown",
   "metadata": {},
   "source": [
    "### Definiciones:\n",
    "**Datos:** son observaciones de fenómenos del mundo real.\n",
    "\n",
    "**Aprendizaje automático:** Es un subconjunto de la Inteligencia Artificial y se refiere al estudio de algoritmos que mejoran a través de la experiencia[$^{[2]}$](https://en.wikipedia.org/wiki/Machine_learning).\n",
    "\n",
    "**Característica:** Es una propiedad individual medible de un fenómeno que se observa. Éstas pueden ser numéricas o estructurales[$^{[3]}$](https://en.wikipedia.org/wiki/Feature_(machine_learning)).\n",
    "\n",
    "**Conocimiento del dominio:** Consiste en saber con precisión cómo se hace algo, tener una intuición de los principios subyacentes e integrarlos en la red de conocimiento existente.\n",
    "\n",
    "**Minería de datos:** Es un conjunto de técnicas que permiten explorar grandes bases de datos, de manera automática o semiautomática, con el objetivo de encontrar patrones que expliquen el comportamiento de estos datos.\n",
    "\n",
    "**Sobreajuste:** Es la situación en la que un modelo se ajusta muy bien a los datos actuales pero falla al predecir nuevas muestras. Suele ocurrir cuando el modelo se ha basado demasiado en patrones y tendencias en el conjunto de datos actual que no ocurrirían de otra manera."
   ]
  },
  {
   "cell_type": "markdown",
   "metadata": {},
   "source": [
    "### Herramientas\n",
    "\n",
    "- [python](https://www.python.org) - [Anaconda](https://www.anaconda.com/distribution/) - [Jupyter](http://jupyter.org)\n",
    "\n",
    " <div>\n",
    "<img style=\"float: left; margin: 0px 0px 15px 15px;\" src=\"https://www.python.org/static/community_logos/python-logo.png\" width=\"200px\" height=\"200px\" alt=\"atom\" />\n",
    "<img style=\"float: left; margin: 0px 0px 15px 15px;\" src=\"https://upload.wikimedia.org/wikipedia/en/c/cd/Anaconda_Logo.png\" width=\"120\" />\n",
    "<img style=\"float: left; margin: 0px 0px 15px 15px;\" src=\"http://jupyter.org/assets/main-logo.svg\" width=\"80\" />\n"
   ]
  }
 ],
 "metadata": {
  "kernelspec": {
   "display_name": "Python 3",
   "language": "python",
   "name": "python3"
  },
  "language_info": {
   "codemirror_mode": {
    "name": "ipython",
    "version": 3
   },
   "file_extension": ".py",
   "mimetype": "text/x-python",
   "name": "python",
   "nbconvert_exporter": "python",
   "pygments_lexer": "ipython3",
   "version": "3.7.3"
  }
 },
 "nbformat": 4,
 "nbformat_minor": 2
}
